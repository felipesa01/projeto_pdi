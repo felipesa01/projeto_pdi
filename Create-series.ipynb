{
 "cells": [
  {
   "cell_type": "code",
   "execution_count": null,
   "metadata": {},
   "outputs": [],
   "source": [
    "import geopandas as gpd\n",
    "import numpy as np\n",
    "\n",
    "from osgeo import gdal, ogr, osr\n",
    "from gdalconst import *\n",
    "gdal.UseExceptions()\n",
    "\n",
    "import rasterio\n",
    "\n",
    "import stac"
   ]
  },
  {
   "cell_type": "markdown",
   "metadata": {},
   "source": [
    "## Obter imagens da área de interesse via STAC (BrazilDataCube)"
   ]
  },
  {
   "cell_type": "code",
   "execution_count": null,
   "metadata": {},
   "outputs": [],
   "source": [
    "# Criar conexão com o servidor da STAC\n",
    "bdc_stac_service = stac.STAC('http://brazildatacube.dpi.inpe.br/')\n",
    "\n",
    "# Obter itens filtrados pelo objeto JSON (https://stacspec.org/STAC-api.html#operation/postSearchSTAC)\n",
    "# Filtro: 200 primeiras imagens da coleção 'LC8SR-1' que interserctam o ponto (-46.872, -17.150).\n",
    "item = bdc_stac_service.search({'collections':['LC8SR-1'], \n",
    "                                \"intersects\": {\"type\": \"Point\",\n",
    "                                               \"coordinates\": [-46.872, -17.150]},\n",
    "                                'limit': 200})\n",
    "\n",
    "# Mostrar quantas imagens foram recuperadas\n",
    "len(item.features)"
   ]
  },
  {
   "cell_type": "markdown",
   "metadata": {},
   "source": [
    "## Criar um dicionário com as datas e links das imagens"
   ]
  },
  {
   "cell_type": "code",
   "execution_count": null,
   "metadata": {},
   "outputs": [],
   "source": [
    "links = {}\n",
    "\n",
    "# Percorrer todos o itens obtidos ds STAC\n",
    "for i in item.features:\n",
    "    \n",
    "    # Adquirir a data da imagem\n",
    "    date = i['properties']['datetime'][0:10]\n",
    "    \n",
    "    # Inserir um item no dicionário 'links' com (chave = data da imagem) e (valor = URL da imagem).\n",
    "    # IV selecionado: NDVI\n",
    "    links[date] = i['assets']['sr_ndvi']['href']\n",
    "\n",
    "# Mostrar dicionário de links\n",
    "links"
   ]
  },
  {
   "cell_type": "markdown",
   "metadata": {},
   "source": [
    "## Abrir arquivo de pontos e extrair coordenadas"
   ]
  },
  {
   "cell_type": "code",
   "execution_count": null,
   "metadata": {},
   "outputs": [],
   "source": [
    "# Abrir arquivo de pontos\n",
    "df = gpd.read_file('./DADOS/pt_inicial_10qtd.geojson')\n",
    "\n",
    "# Gerar duas listas (lat e lon) com as coordenadas dos pontos\n",
    "lat = []\n",
    "lon = []\n",
    "for i in df.geometry:\n",
    "    lon.append(i.x)\n",
    "    lat.append(i.y)"
   ]
  },
  {
   "cell_type": "markdown",
   "metadata": {},
   "source": [
    "## Amostrar os valores das imagens para os pontos obtidos\n",
    "\n",
    "A célula abaixo amostra os valores de todas as imagens (93) para todos o pontos (1094). Para isso ela precisa abrir cada uma como dataset e processá-la a partir de todos os pontos definidos (93 x 1094). \n",
    "\n",
    "A sua execução demanda mais tempo que as demais (aprx. 20 min)."
   ]
  },
  {
   "cell_type": "code",
   "execution_count": null,
   "metadata": {},
   "outputs": [],
   "source": [
    "# Criar um dicionário de saída\n",
    "out = {}\n",
    "\n",
    "# Percorrer todas os pares data(k)/URL(v) da lista 'links'\n",
    "for k,v in links.items():\n",
    "    # Abrir a imagem da URL\n",
    "    with rasterio.open(v) as src:\n",
    "        # Obter o valores dos pixel da imagem para as coordenadas dos pontos (amostrar valores)\n",
    "        val = [x for x in src.sample(zip(lon,lat))]\n",
    "        \n",
    "        # Transformar cada item (array unitario) da lista 'val' para número\n",
    "        for i in range(len(val)):\n",
    "            val[i] = val[i][0]\n",
    "            \n",
    "        # Inserir o item no dicionário 'out' com (chave = data da imagem) e (valor = lista de valores da série).\n",
    "        out[k] = val"
   ]
  },
  {
   "cell_type": "code",
   "execution_count": null,
   "metadata": {},
   "outputs": [],
   "source": [
    "# Inserir os valores obtidos como colunas no dataframe dos pontos\n",
    "for k,v in out.items():\n",
    "    df.insert(loc=2,column=k,value=v)\n",
    "\n",
    "# Agrupar os pontos de cada pivo a partir da média (e excluir a coluna 'id')\n",
    "df = df.groupby(['PIVOID']).mean().drop('id',1)"
   ]
  },
  {
   "cell_type": "code",
   "execution_count": null,
   "metadata": {
    "scrolled": true
   },
   "outputs": [],
   "source": [
    "df"
   ]
  },
  {
   "cell_type": "markdown",
   "metadata": {},
   "source": [
    "## Selecionar 6 pivôs aleatoriamente e plotar as suas respectivas séries\n",
    "\n",
    "A cada execução da célula abaixo são sorteados 6 pivos diferentes"
   ]
  },
  {
   "cell_type": "code",
   "execution_count": null,
   "metadata": {},
   "outputs": [],
   "source": [
    "# Selecionar 6 pivôs aleatoriamente, transpor o dataframe e converter o valores para o intervalo [0,1] (divisão por 10000)\n",
    "df_reduzido = df.sample(6).T/10000\n",
    "# Plotar as séries\n",
    "df_reduzido.plot(subplots=True, figsize=(15,10));"
   ]
  }
 ],
 "metadata": {
  "kernelspec": {
   "display_name": "Python (NeoGeo)",
   "language": "python",
   "name": "neogeo"
  },
  "language_info": {
   "codemirror_mode": {
    "name": "ipython",
    "version": 3
   },
   "file_extension": ".py",
   "mimetype": "text/x-python",
   "name": "python",
   "nbconvert_exporter": "python",
   "pygments_lexer": "ipython3",
   "version": "3.7.7"
  }
 },
 "nbformat": 4,
 "nbformat_minor": 4
}
